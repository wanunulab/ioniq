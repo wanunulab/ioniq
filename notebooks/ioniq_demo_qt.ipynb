{
 "cells": [
  {
   "cell_type": "code",
   "execution_count": 2,
   "id": "ccf204df-4252-41ac-bea3-216b6462e430",
   "metadata": {},
   "outputs": [
    {
     "name": "stdout",
     "output_type": "stream",
     "text": [
      "Requirement already satisfied: pyqt6 in /Users/dinaraboyko/grad_school/cloned_repo/ioniq/venv/lib/python3.11/site-packages (6.7.1)\n",
      "Requirement already satisfied: PyQt6-sip<14,>=13.8 in /Users/dinaraboyko/grad_school/cloned_repo/ioniq/venv/lib/python3.11/site-packages (from pyqt6) (13.8.0)\n",
      "Requirement already satisfied: PyQt6-Qt6<6.8.0,>=6.7.0 in /Users/dinaraboyko/grad_school/cloned_repo/ioniq/venv/lib/python3.11/site-packages (from pyqt6) (6.7.3)\n",
      "\n",
      "\u001b[1m[\u001b[0m\u001b[34;49mnotice\u001b[0m\u001b[1;39;49m]\u001b[0m\u001b[39;49m A new release of pip is available: \u001b[0m\u001b[31;49m24.2\u001b[0m\u001b[39;49m -> \u001b[0m\u001b[32;49m24.3.1\u001b[0m\n",
      "\u001b[1m[\u001b[0m\u001b[34;49mnotice\u001b[0m\u001b[1;39;49m]\u001b[0m\u001b[39;49m To update, run: \u001b[0m\u001b[32;49mpip install --upgrade pip\u001b[0m\n"
     ]
    }
   ],
   "source": [
    "# Import lobraries and modules\n",
    "import ioniq.core as ct\n",
    "from ioniq.io import EDHReader, OPTReader\n",
    "from ioniq.parsers import SpeedyStatSplit\n",
    "from ioniq.parsers import NoiseFilterParser\n",
    "import ioniq.datatypes as dt\n",
    "from ioniq.parsers import SpikeParser\n",
    "import os\n",
    "import pandas as pd\n",
    "import numpy as np\n",
    "from concurrent.futures import ThreadPoolExecutor\n",
    "import glob\n",
    "import matplotlib.pyplot as plt\n",
    "import seaborn as sns\n",
    "from scipy import signal\n",
    "import inspect\n",
    "from scipy.signal import find_peaks\n",
    "import xml.etree.ElementTree as ET\n",
    "from IPython.display import Markdown, display\n",
    "! pip install pyqt6\n",
    "from ioniq.utils import Trimmer, Filter"
   ]
  },
  {
   "cell_type": "code",
   "execution_count": 3,
   "id": "4a4e2529-62e9-4b50-9cce-a709b7facbe0",
   "metadata": {},
   "outputs": [],
   "source": [
    "from importlib import reload\n",
    "import ioniq.io\n",
    "reload(ioniq.io)\n",
    "from ioniq.io import OPTReader"
   ]
  },
  {
   "cell_type": "markdown",
   "id": "be592c19-f083-4e74-9a04-13781fbb312a",
   "metadata": {},
   "source": [
    "## Upload files\n",
    "\n",
    "#### in this demo we focus on the Axopatch output XML files with timestamps, voltages, and corresponding opt files with the current data"
   ]
  },
  {
   "cell_type": "code",
   "execution_count": 4,
   "id": "4b2d4b48-0cd2-4560-92ce-e353bdc60a89",
   "metadata": {},
   "outputs": [
    {
     "name": "stdout",
     "output_type": "stream",
     "text": [
      "/Users/dinaraboyko/grad_school/cloned_repo/data/011225/B011225_933--222051.opt\n",
      "/Users/dinaraboyko/grad_school/cloned_repo/data/011225/B011225_933--221228.opt\n",
      "/Users/dinaraboyko/grad_school/cloned_repo/data/011225/B011225_220--214932.opt\n",
      "/Users/dinaraboyko/grad_school/cloned_repo/data/011225/B011225_000--214219_volt.opt\n",
      "/Users/dinaraboyko/grad_school/cloned_repo/data/011225/B011225_933--221228_volt.opt\n",
      "/Users/dinaraboyko/grad_school/cloned_repo/data/011225/B011225_933--220626.opt\n",
      "/Users/dinaraboyko/grad_school/cloned_repo/data/011225/B011225_933--220403_volt.opt\n",
      "/Users/dinaraboyko/grad_school/cloned_repo/data/011225/B011225_933--222051_volt.opt\n",
      "/Users/dinaraboyko/grad_school/cloned_repo/data/011225/B011225_933--220626_volt.opt\n",
      "/Users/dinaraboyko/grad_school/cloned_repo/data/011225/B011225_000--214219.opt\n",
      "/Users/dinaraboyko/grad_school/cloned_repo/data/011225/B011225_933--220403.opt\n",
      "/Users/dinaraboyko/grad_school/cloned_repo/data/011225/B011225_220--214932_volt.opt\n"
     ]
    }
   ],
   "source": [
    "datafiles=glob.glob('/Users/dinaraboyko/grad_school/cloned_repo/data/011225/*.opt')\n",
    "print(*datafiles,sep='\\n')"
   ]
  },
  {
   "cell_type": "markdown",
   "id": "138c0cbf-08fc-4323-bacb-d92de94df561",
   "metadata": {},
   "source": [
    "# Observe xml file current and voltage. Raw data"
   ]
  },
  {
   "cell_type": "markdown",
   "id": "4bda0084-d3e9-4854-9edb-214d50944394",
   "metadata": {},
   "source": [
    "## Plot the current against the time with an aligned voltage\n",
    "### Plots for different voltage protocols\n"
   ]
  },
  {
   "cell_type": "code",
   "execution_count": 6,
   "id": "655b805e-5f37-4bf8-9020-e1e875ed558d",
   "metadata": {},
   "outputs": [
    {
     "name": "stdout",
     "output_type": "stream",
     "text": [
      "/Users/dinaraboyko/grad_school/cloned_repo/data/011225/B011225_933--220403.opt\n",
      "22500000\n"
     ]
    }
   ],
   "source": [
    "%matplotlib qt\n",
    "for file in datafiles[10:11]:\n",
    "    print(file)\n",
    "    metadata, current, voltage = OPTReader(file, voltage_compress=True, downsample=1)\n",
    "    print(len(current))\n",
    "    voltage_data = voltage\n",
    "    #current_sliced = current[:metadata[\"total_samples\"]]\n",
    "    sampling_frequency = metadata['Sampling frequency (SR)']\n",
    "    time = np.linspace(0, len(current) / sampling_frequency, num=len(current))\n",
    "    \n",
    "    voltage_ = np.zeros(len(current))\n",
    "    for (start, end), value in voltage_data:\n",
    "        voltage_[start:end] = value\n",
    "    \n",
    "    \n",
    "    fig, ax1 = plt.subplots(figsize=(12, 6))\n",
    "    \n",
    "    \n",
    "    ax1.plot(time, current, lw=0.3, c='k', label='Current')\n",
    "    ax1.set_xlabel('Time (s)')\n",
    "    ax1.set_ylabel('Current (nA)', color='k')\n",
    "    ax1.tick_params(axis='y', labelcolor='k')\n",
    "    \n",
    "    ax2 = ax1.twinx()\n",
    "    ax2.plot(time, voltage_, lw=0.5, c='r', label='Voltage')\n",
    "    ax2.set_ylabel('Voltage (mV)', color='r')\n",
    "    ax2.tick_params(axis='y', labelcolor='r')\n",
    "    file_name = metadata[\"HeaderFile\"].split(\"/\")[-1]\n",
    "    plt.title(f\"Current and Voltage Plot for {file_name}\")\n",
    "    plt.tight_layout()\n",
    "    plt.show()\n"
   ]
  },
  {
   "cell_type": "markdown",
   "id": "45804281-1046-44df-b217-2e9f699df618",
   "metadata": {},
   "source": [
    "# Observe preprocessed files"
   ]
  },
  {
   "cell_type": "markdown",
   "id": "534c5000-4093-45ef-a0a4-52186a39a094",
   "metadata": {},
   "source": [
    "## Extract metadata, current and voltage from the input file with the parameters:\n",
    "\n",
    "*voltage_compress* is a boolean parameter.\n",
    "* True voltage data is compressed and represented in a summarized format (list of start and end points for each voltage step)\n",
    "* False voltage is a full array\n",
    "\n",
    "*downsample* is the factor by which the data is downsampled. \n",
    "* downsample=1: all data points are preserved.\n",
    "* downsample=10: every 10th data point is retained, reducing data size.\n",
    "\n",
    "*prefilter*: apply the following filters of on the data: \n",
    "\n",
    "* Low-pass filters: Remove high-frequency noise.\n",
    "* High-pass filters: Remove baseline drifts or low-frequency artifacts.\n",
    "* Band-pass filters: Retain a specific frequency range for analysis.\n",
    "* Band-stop filters:\n",
    "\n",
    "  define the method:\n",
    "  filter_method:\n",
    "\n",
    "  * butter, bessel\n"
   ]
  },
  {
   "cell_type": "code",
   "execution_count": 7,
   "id": "d34aebc7-dba1-4040-af99-864945a7a38e",
   "metadata": {},
   "outputs": [],
   "source": [
    "# Initialize Filter\n",
    "reload(ioniq.utils)\n",
    "from ioniq.utils import Trimmer, Filter\n",
    "cutoff_frequency = 25000\n",
    "filter_type = \"lowpass\"\n",
    "filter_method = \"bessel\"\n",
    "order = 2\n",
    "bidirectional = True\n",
    "sampling_frequency = 250000\n",
    "\n",
    "\n",
    "filt = Filter(\n",
    "    cutoff_frequency=cutoff_frequency,\n",
    "    filter_type='lowpass',\n",
    "    filter_method = filter_method,\n",
    "    bidirectional=bidirectional,\n",
    "    sampling_frequency=sampling_frequency\n",
    ")\n",
    "trimmer=Trimmer(samples_to_remove=100)"
   ]
  },
  {
   "cell_type": "code",
   "execution_count": 8,
   "id": "c0031e35-a5d0-4ab2-92c0-f451d56dfdc8",
   "metadata": {
    "scrolled": true
   },
   "outputs": [],
   "source": [
    "# Apply filters\n",
    "sfm = dt.SessionFileManager()\n",
    "sfm.clear_children()\n",
    "for datafile in datafiles[10:11]:\n",
    "    metadata, current, voltage = OPTReader(datafile, voltage_compress=True, downsample=5, prefilter=filt)\n",
    "    trace_file = dt.TraceFile(current=current, voltage=voltage, parent=sfm, metadata=metadata, unique_features={\"sampling_freq\": metadata[\"eff_sampling_freq\"]})\n",
    "    trimmer(trace_file)"
   ]
  },
  {
   "cell_type": "markdown",
   "id": "adb5c67e-6699-4099-b5df-f933abfc12f1",
   "metadata": {},
   "source": [
    "## Conductance plot"
   ]
  },
  {
   "cell_type": "code",
   "execution_count": 20,
   "id": "18e1f4d6-8b75-46cb-a9e8-82e28244416c",
   "metadata": {},
   "outputs": [
    {
     "data": {
      "image/png": "[encoded data removed]",
      "text/plain": [
       "<Figure size 700x700 with 2 Axes>"
      ]
     },
     "metadata": {},
     "output_type": "display_data"
    }
   ],
   "source": [
    " # Conductance in nS\n",
    "%matplotlib inline\n",
    "for i, tf in enumerate(sfm.children):\n",
    "    fig, (ax0, ax1) = plt.subplots(2, 1, sharex=True, num=i+1, \n",
    "                                   gridspec_kw={'height_ratios': [3, 1]}, figsize=(7, 7))\n",
    "    for child in tf.traverse_to_rank(\"vstepgap\"):\n",
    "        voltage = child.get_feature(\"voltage\")\n",
    "        if voltage > 0:  \n",
    "            conductance = child.current  / voltage \n",
    "            ax0.plot(child.time, conductance, lw=0.3, c='k') \n",
    "            ax1.plot([child.time[0], child.time[-1]], [voltage] * 2, lw=0.6, c='k')\n",
    "    #file_name = tf.get_feature(\"metadata\")[\"HeaderFile\"].split(\"/\")[-1]\n",
    "    #plt.title(f\"Conductance for {file_name}\")\n",
    "    ax0.set_ylabel(\"Conductance (nS)\")\n",
    "    ax1.set_ylabel(\"Voltage (mV)\")\n",
    "plt.tight_layout()\n",
    "plt.show()"
   ]
  },
  {
   "cell_type": "markdown",
   "id": "9de54448-9b97-4a4d-b7fa-a1c44dca5932",
   "metadata": {},
   "source": [
    "## Curent and voltage steps"
   ]
  },
  {
   "cell_type": "code",
   "execution_count": 39,
   "id": "45990262-e925-4630-bdab-53e9a637e559",
   "metadata": {},
   "outputs": [],
   "source": [
    "%matplotlib qt\n",
    "for i, tf in enumerate(sfm.children):\n",
    "    fig, ax1 = plt.subplots(figsize=(12, 6))\n",
    "    ax2=ax1.twinx()\n",
    "    for child in tf.traverse_to_rank(\"vstep\"):\n",
    "        ax1.plot(child.time, child.current, lw=0.3, label='Current')\n",
    "        ax2.plot([child.time[0],child.time[-1]], [child.unique_features['voltage']]*2, lw=0.5, c='r')\n",
    "        #file_name = tf.get_feature(\"metadata\")[\"HeaderFile\"].split(\"/\")[-1]\n",
    "        #plt.title(f\"Current and Voltage Plot for {file_name}\")\n",
    "    ax1.set_xlabel('Time (s)')\n",
    "    ax1.set_ylabel('Current (nA)', color='k')\n",
    "    ax1.tick_params(axis='y', labelcolor='k')\n",
    "    ax2.set_ylabel('Voltage (mV)', color='r')\n",
    "    ax2.tick_params(axis='y', labelcolor='r')\n",
    "    plt.tight_layout()\n",
    "    plt.show()\n"
   ]
  },
  {
   "cell_type": "markdown",
   "id": "a074dec8-e9fd-4e18-ab55-2c24c3ca29c2",
   "metadata": {},
   "source": [
    "# Start event parser"
   ]
  },
  {
   "cell_type": "code",
   "execution_count": 12,
   "id": "cf2db000-ad87-4532-9aa0-f4c595137bb4",
   "metadata": {
    "scrolled": true
   },
   "outputs": [],
   "source": [
    "import numpy.ma as ma\n",
    "from ioniq.parsers import lambda_event_parser\n",
    "plt.close('all')\n",
    "color_map={80.0:\"tab:grey\",60:\"tab:blue\",150:\"tab:green\",90:\"tab:orange\",120.0:\"tab:red\",100:\"tab:purple\"}\n",
    "def parse(tf,starts=None,ends=None,voltage_range=(0.149,0.251),threshold=0.7):\n",
    "    if starts is None:\n",
    "        starts=[tf.time[0]]\n",
    "    if ends is None:\n",
    "        ends=[tf.time[-1]]\n",
    "    \n",
    "    steps=set()\n",
    "    # print(len(tf.traverse_to_rank(\"vstepgap\")))\n",
    "    for step in tf.traverse_to_rank(\"vstepgap\"):\n",
    "        for start,end in zip(starts,ends):\n",
    "            # print(step.get_feature('voltage'))\n",
    "            if start<step.time[0] and step.time[-1]<end and voltage_range[0]<=step.get_feature(\"voltage\")<=voltage_range[1]:\n",
    "                steps.add(step)\n",
    "    if len(steps)==0:\n",
    "        return\n",
    "    steps=list(steps)\n",
    "    # plt.figure()\n",
    "    ti=0\n",
    "    results=[]\n",
    "    for step in steps:\n",
    "        # plt.plot(step.t,step.current,c='k',lw=0.4)\n",
    "        mask=np.where(step.current>100e-3,1,0)\n",
    "        masked_current=ma.masked_array(step.current,mask)\n",
    "        \n",
    "        hist,edges=np.histogram(masked_current,bins=150,range=(50e-3,900e-3))\n",
    "        centers=edges[:-1]+(edges[1]-edges[0])*0.5\n",
    "        I0guess=centers[np.argmax(hist)]\n",
    "\n",
    "        Ithresh=I0guess*threshold\n",
    "\n",
    "        if I0guess<150e-3:\n",
    "            continue\n",
    "        eventmask=np.where(step.current<Ithresh,1,0)\n",
    "        lambda_parser=lambda_event_parser(threshold=Ithresh,rules=[lambda event:0<event.mean<I0guess*0.6,lambda event:event.duration>4])\n",
    "        \n",
    "        events=lambda_parser.parse(step.current)\n",
    "        if len(events)==0:\n",
    "            continue\n",
    "        for i in range(len(events)):\n",
    "            \n",
    "            if i==len(events)-1:\n",
    "                bstart=events[i].start+events[i].duration\n",
    "                bend=step.current.shape[0]\n",
    "                \n",
    "            else:\n",
    "                bstart=events[i].start+events[i].duration\n",
    "                bend=events[i+1].start\n",
    "                # baseline=step.current[events[i].start+events[i].duration:events[i+1].start]\n",
    "            baseline=step.current[bstart:bend]\n",
    "            events[i].I0=np.median(baseline,axis=-1)\n",
    "            if events[i].I0<0.5e-10:\n",
    "                print(baseline*1e9,bstart,bend)\n",
    "                # event.I0=np.median(step.current[])\n",
    "        # print(len(events))\n",
    "        if events[-1].start+events[-1].duration==step.current.shape[0]:\n",
    "            events.pop(-1)     \n",
    "        if len(events)==0:\n",
    "            continue  \n",
    "        if events[0].start==0:\n",
    "            events.pop(0)   \n",
    "        for event in events:\n",
    "            event.parent=step\n",
    "            wstart=max(event.start-50,0)\n",
    "            wend=min(event.start+event.duration+50,step.current.shape[0])\n",
    "            # print(wstart,wend)\n",
    "            event.wrap=step.current[wstart:wend]   \n",
    "            \n",
    "        for event in events:\n",
    "            event.duration=1/250000*event.current.shape[0]\n",
    "            event.voltage=step.get_feature(\"voltage\")\n",
    "            # if np.log10(event.duration)>-4:\n",
    "            #     continue\n",
    "            t=np.arange(event.current.shape[0])/250000+ti\n",
    "            # plt.plot(t,event.current,lw=0.4)\n",
    "            # # plt.plot(t,[I0guess]*t.shape[0])\n",
    "            ti+=event.duration+0.005\n",
    "        \n",
    "        # color=color_map[round(float(step.get_feature(\"voltage\")),3)]\n",
    "        results+=events\n",
    "\n",
    "    plt.figure()\n",
    "    plt.title(tf.metadata[\"HeaderFile\"])\n",
    "    plt.plot(tf.time[::],tf.current[::],lw=0.5,c='k')\n",
    "    for event in results:\n",
    "        # print(event.parent.start)\n",
    "        # print(event.start)\n",
    "        t=np.arange(event.current.shape[0])/50000+event.start/50000+event.parent.time[0]\n",
    "        \n",
    "        plt.plot(t,event.current,lw=1,c='r')\n",
    "    \n",
    "        # plt.scatter([I0guess]*len(events),[np.log10(event.duration) for event in events],c=color,s=4)\n",
    "        # print([np.mean([np.log10(event.duration) for event in events],axis=-1)])\n",
    "        # plt.scatter([I0guess],[np.median([np.log10(event.duration) for event in events],axis=-1)],marker=\"*\",s=10,c='r')\n",
    "        # plt.hist2d([I0guess]*len(events),[np.log10(event.duration) for event in events],range=[ [1e-10,5e-10],[-3.5,1]],bins=(40,20),norm='log')\n",
    "        # plt.scatter([np.log10(event.duration) for event in events],[1-event.mean/event.I0 for event in events],c=color,s=4)\n",
    "        \n",
    "    # plt.xlim(0.6,1)\n",
    "    # plt.ylim(-4,1)\n",
    "        # plt.plot(centers,hist)\n",
    "\n",
    "        \n",
    "    return results\n",
    "dfs={}\n",
    "for tf in sfm.children: \n",
    "    events=parse(tf)\n",
    "\n",
    "    key=tf.metadata[\"HeaderFile\"]\n",
    "    # rootfolder=os.path.split(key)[0]\n",
    "    rootfolder=key\n",
    "    dfs[key]=pd.DataFrame(columns=['mean','frac','dwell','baseline','Voltage','current','wrap','rootfolder'])\n",
    "    for event in events:\n",
    "        dfdict={\"mean\":event.mean,\n",
    "                \"frac\":1-event.mean/event.I0,\n",
    "                \"dwell\":event.duration,\n",
    "                \"baseline\":event.I0,\n",
    "                \"Voltage\":int(round(float(event.voltage),3)),\n",
    "            \"current\":event.current,\n",
    "            \"wrap\":event.wrap,\n",
    "            \"rootfolder\":rootfolder}\n",
    "        \n",
    "        dfs[key].loc[len(dfs[key])]=dfdict"
   ]
  },
  {
   "cell_type": "code",
   "execution_count": null,
   "id": "570db8a0-601c-4bc4-9e86-1948330a490e",
   "metadata": {},
   "outputs": [],
   "source": []
  },
  {
   "cell_type": "code",
   "execution_count": null,
   "id": "ed06c520-9146-470b-9640-039a0dfc5745",
   "metadata": {},
   "outputs": [],
   "source": []
  },
  {
   "cell_type": "code",
   "execution_count": null,
   "id": "0d0feef4-a761-4cda-ad69-b00f1bf3d502",
   "metadata": {},
   "outputs": [],
   "source": []
  },
  {
   "cell_type": "code",
   "execution_count": 13,
   "id": "347d3383-ac77-421e-8c76-7030a4881dc9",
   "metadata": {},
   "outputs": [],
   "source": [
    "_dff=list(dfs.values())[0].iloc[128:135]\n",
    "plt.figure()\n",
    "\n",
    "toffset=0\n",
    "gap=0.0007\n",
    "sampling_freq=50000\n",
    "for idx, row in _dff.iterrows():\n",
    "    t=np.arange(row.wrap.shape[0])/sampling_freq+toffset\n",
    "    plt.plot(t,row.wrap,lw=0.5,c='k')\n",
    "\n",
    "    toffset=t[-1]+gap"
   ]
  },
  {
   "cell_type": "markdown",
   "id": "ffe65a50-6179-412e-b781-85269e1a69e6",
   "metadata": {},
   "source": [
    "# Features. Combined by experiment"
   ]
  },
  {
   "cell_type": "code",
   "execution_count": 24,
   "id": "42ccc902-f196-4e50-b3ec-d3ab1c4f6bba",
   "metadata": {},
   "outputs": [
    {
     "ename": "ValueError",
     "evalue": "No objects to concatenate",
     "output_type": "error",
     "traceback": [
      "\u001b[0;31m---------------------------------------------------------------------------\u001b[0m",
      "\u001b[0;31mValueError\u001b[0m                                Traceback (most recent call last)",
      "Cell \u001b[0;32mIn[24], line 14\u001b[0m\n\u001b[1;32m     10\u001b[0m plt\u001b[38;5;241m.\u001b[39mrcParams[\u001b[38;5;124m\"\u001b[39m\u001b[38;5;124mps.useafm\u001b[39m\u001b[38;5;124m\"\u001b[39m] \u001b[38;5;241m=\u001b[39m \u001b[38;5;28;01mTrue\u001b[39;00m\n\u001b[1;32m     11\u001b[0m plt\u001b[38;5;241m.\u001b[39mrcParams[\u001b[38;5;124m\"\u001b[39m\u001b[38;5;124mfigure.dpi\u001b[39m\u001b[38;5;124m\"\u001b[39m]\u001b[38;5;241m=\u001b[39m\u001b[38;5;241m150\u001b[39m\n\u001b[0;32m---> 14\u001b[0m masterdf\u001b[38;5;241m=\u001b[39m\u001b[43mpd\u001b[49m\u001b[38;5;241;43m.\u001b[39;49m\u001b[43mconcat\u001b[49m\u001b[43m(\u001b[49m\u001b[43m[\u001b[49m\u001b[43m_df\u001b[49m\u001b[43m \u001b[49m\u001b[38;5;28;43;01mfor\u001b[39;49;00m\u001b[43m \u001b[49m\u001b[43m_df\u001b[49m\u001b[43m \u001b[49m\u001b[38;5;129;43;01min\u001b[39;49;00m\u001b[43m \u001b[49m\u001b[43mdfs\u001b[49m\u001b[38;5;241;43m.\u001b[39;49m\u001b[43mvalues\u001b[49m\u001b[43m(\u001b[49m\u001b[43m)\u001b[49m\u001b[43m]\u001b[49m\u001b[43m)\u001b[49m\n\u001b[1;32m     15\u001b[0m \u001b[38;5;28;01mfor\u001b[39;00m groupname,df \u001b[38;5;129;01min\u001b[39;00m masterdf\u001b[38;5;241m.\u001b[39mgroupby(\u001b[38;5;124m\"\u001b[39m\u001b[38;5;124mrootfolder\u001b[39m\u001b[38;5;124m\"\u001b[39m):\n\u001b[1;32m     16\u001b[0m     \u001b[38;5;66;03m# sns.set_theme(\"white\")\u001b[39;00m\n\u001b[1;32m     18\u001b[0m     sns\u001b[38;5;241m.\u001b[39mset_style(\u001b[38;5;124m\"\u001b[39m\u001b[38;5;124mticks\u001b[39m\u001b[38;5;124m\"\u001b[39m)\n",
      "File \u001b[0;32m~/grad_school/cloned_repo/ioniq/venv/lib/python3.11/site-packages/pandas/core/reshape/concat.py:382\u001b[0m, in \u001b[0;36mconcat\u001b[0;34m(objs, axis, join, ignore_index, keys, levels, names, verify_integrity, sort, copy)\u001b[0m\n\u001b[1;32m    379\u001b[0m \u001b[38;5;28;01melif\u001b[39;00m copy \u001b[38;5;129;01mand\u001b[39;00m using_copy_on_write():\n\u001b[1;32m    380\u001b[0m     copy \u001b[38;5;241m=\u001b[39m \u001b[38;5;28;01mFalse\u001b[39;00m\n\u001b[0;32m--> 382\u001b[0m op \u001b[38;5;241m=\u001b[39m \u001b[43m_Concatenator\u001b[49m\u001b[43m(\u001b[49m\n\u001b[1;32m    383\u001b[0m \u001b[43m    \u001b[49m\u001b[43mobjs\u001b[49m\u001b[43m,\u001b[49m\n\u001b[1;32m    384\u001b[0m \u001b[43m    \u001b[49m\u001b[43maxis\u001b[49m\u001b[38;5;241;43m=\u001b[39;49m\u001b[43maxis\u001b[49m\u001b[43m,\u001b[49m\n\u001b[1;32m    385\u001b[0m \u001b[43m    \u001b[49m\u001b[43mignore_index\u001b[49m\u001b[38;5;241;43m=\u001b[39;49m\u001b[43mignore_index\u001b[49m\u001b[43m,\u001b[49m\n\u001b[1;32m    386\u001b[0m \u001b[43m    \u001b[49m\u001b[43mjoin\u001b[49m\u001b[38;5;241;43m=\u001b[39;49m\u001b[43mjoin\u001b[49m\u001b[43m,\u001b[49m\n\u001b[1;32m    387\u001b[0m \u001b[43m    \u001b[49m\u001b[43mkeys\u001b[49m\u001b[38;5;241;43m=\u001b[39;49m\u001b[43mkeys\u001b[49m\u001b[43m,\u001b[49m\n\u001b[1;32m    388\u001b[0m \u001b[43m    \u001b[49m\u001b[43mlevels\u001b[49m\u001b[38;5;241;43m=\u001b[39;49m\u001b[43mlevels\u001b[49m\u001b[43m,\u001b[49m\n\u001b[1;32m    389\u001b[0m \u001b[43m    \u001b[49m\u001b[43mnames\u001b[49m\u001b[38;5;241;43m=\u001b[39;49m\u001b[43mnames\u001b[49m\u001b[43m,\u001b[49m\n\u001b[1;32m    390\u001b[0m \u001b[43m    \u001b[49m\u001b[43mverify_integrity\u001b[49m\u001b[38;5;241;43m=\u001b[39;49m\u001b[43mverify_integrity\u001b[49m\u001b[43m,\u001b[49m\n\u001b[1;32m    391\u001b[0m \u001b[43m    \u001b[49m\u001b[43mcopy\u001b[49m\u001b[38;5;241;43m=\u001b[39;49m\u001b[43mcopy\u001b[49m\u001b[43m,\u001b[49m\n\u001b[1;32m    392\u001b[0m \u001b[43m    \u001b[49m\u001b[43msort\u001b[49m\u001b[38;5;241;43m=\u001b[39;49m\u001b[43msort\u001b[49m\u001b[43m,\u001b[49m\n\u001b[1;32m    393\u001b[0m \u001b[43m\u001b[49m\u001b[43m)\u001b[49m\n\u001b[1;32m    395\u001b[0m \u001b[38;5;28;01mreturn\u001b[39;00m op\u001b[38;5;241m.\u001b[39mget_result()\n",
      "File \u001b[0;32m~/grad_school/cloned_repo/ioniq/venv/lib/python3.11/site-packages/pandas/core/reshape/concat.py:445\u001b[0m, in \u001b[0;36m_Concatenator.__init__\u001b[0;34m(self, objs, axis, join, keys, levels, names, ignore_index, verify_integrity, copy, sort)\u001b[0m\n\u001b[1;32m    442\u001b[0m \u001b[38;5;28mself\u001b[39m\u001b[38;5;241m.\u001b[39mverify_integrity \u001b[38;5;241m=\u001b[39m verify_integrity\n\u001b[1;32m    443\u001b[0m \u001b[38;5;28mself\u001b[39m\u001b[38;5;241m.\u001b[39mcopy \u001b[38;5;241m=\u001b[39m copy\n\u001b[0;32m--> 445\u001b[0m objs, keys \u001b[38;5;241m=\u001b[39m \u001b[38;5;28;43mself\u001b[39;49m\u001b[38;5;241;43m.\u001b[39;49m\u001b[43m_clean_keys_and_objs\u001b[49m\u001b[43m(\u001b[49m\u001b[43mobjs\u001b[49m\u001b[43m,\u001b[49m\u001b[43m \u001b[49m\u001b[43mkeys\u001b[49m\u001b[43m)\u001b[49m\n\u001b[1;32m    447\u001b[0m \u001b[38;5;66;03m# figure out what our result ndim is going to be\u001b[39;00m\n\u001b[1;32m    448\u001b[0m ndims \u001b[38;5;241m=\u001b[39m \u001b[38;5;28mself\u001b[39m\u001b[38;5;241m.\u001b[39m_get_ndims(objs)\n",
      "File \u001b[0;32m~/grad_school/cloned_repo/ioniq/venv/lib/python3.11/site-packages/pandas/core/reshape/concat.py:507\u001b[0m, in \u001b[0;36m_Concatenator._clean_keys_and_objs\u001b[0;34m(self, objs, keys)\u001b[0m\n\u001b[1;32m    504\u001b[0m     objs_list \u001b[38;5;241m=\u001b[39m \u001b[38;5;28mlist\u001b[39m(objs)\n\u001b[1;32m    506\u001b[0m \u001b[38;5;28;01mif\u001b[39;00m \u001b[38;5;28mlen\u001b[39m(objs_list) \u001b[38;5;241m==\u001b[39m \u001b[38;5;241m0\u001b[39m:\n\u001b[0;32m--> 507\u001b[0m     \u001b[38;5;28;01mraise\u001b[39;00m \u001b[38;5;167;01mValueError\u001b[39;00m(\u001b[38;5;124m\"\u001b[39m\u001b[38;5;124mNo objects to concatenate\u001b[39m\u001b[38;5;124m\"\u001b[39m)\n\u001b[1;32m    509\u001b[0m \u001b[38;5;28;01mif\u001b[39;00m keys \u001b[38;5;129;01mis\u001b[39;00m \u001b[38;5;28;01mNone\u001b[39;00m:\n\u001b[1;32m    510\u001b[0m     objs_list \u001b[38;5;241m=\u001b[39m \u001b[38;5;28mlist\u001b[39m(com\u001b[38;5;241m.\u001b[39mnot_none(\u001b[38;5;241m*\u001b[39mobjs_list))\n",
      "\u001b[0;31mValueError\u001b[0m: No objects to concatenate"
     ]
    }
   ],
   "source": [
    "%matplotlib qt\n",
    "import matplotlib as mpl\n",
    "plt.close('all')\n",
    "hueorder=[80,90,120,150]\n",
    "hueorder=list(map(str,hueorder))\n",
    "mpl.rcParams['pdf.fonttype'] = 42\n",
    "# matplotlib.rcParams['ps.fonttype'] = 42\n",
    "plt.rcParams[\"pdf.use14corefonts\"] = False\n",
    "plt.rcParams[\"font.family\"]=[\"Arial\"]\n",
    "plt.rcParams[\"ps.useafm\"] = True\n",
    "plt.rcParams[\"figure.dpi\"]=150\n",
    "\n",
    "\n",
    "masterdf=pd.concat([_df for _df in dfs.values()])\n",
    "for groupname,df in masterdf.groupby(\"rootfolder\"):\n",
    "    # sns.set_theme(\"white\")\n",
    "    \n",
    "    sns.set_style(\"ticks\")\n",
    "    df[\"logdwell\"]=np.log10(df[\"dwell\"])\n",
    "    df[\"fracpct\"]=np.multiply(df[\"frac\"],100)\n",
    "    df[\"voltagestr\"]=df[\"Voltage\"].astype(str)\n",
    "    print(df[\"voltagestr\"].unique())\n",
    "    plt.figure(figsize=(3.5,3.5))\n",
    "    palette=sns.color_palette(\"tab10\", 4)\n",
    "    ax=sns.scatterplot(df,x=\"logdwell\",y='fracpct',hue='voltagestr',palette=palette,hue_order=hueorder,s=4)\n",
    "    # ax=sns.scatterplot(df,x=\"baseline\",y='fracpct',hue='voltagestr',palette=palette,hue_order=hueorder,s=6)\n",
    "    handles,labels=ax.get_legend_handles_labels()\n",
    "    \n",
    "    sns.move_legend(ax,loc=\"lower right\",title=\"Voltage\",handles=handles,labels=[str(x)+\" mV\" if x in df[\"voltagestr\"].unique() else \"_\" for x in labels ],handletextpad=0)\n",
    "    # plt.ylim(70,100)\n",
    "    # plt.xlim(-3.5,1)\n",
    "    plt.ylabel(\"Blockade (%)\")\n",
    "    plt.xlabel(\"Log10 (dwell time [s])\")\n",
    "    # plt.savefig(f\"{key}_scatter.pdf\")\n",
    "    \n",
    "    \n",
    "    \n",
    "    sns.set_theme(style='white', rc={\"axes.facecolor\": (0, 0, 0, 0)})\n",
    "    binrange=[-3.5,1]\n",
    "    binwidth=0.15\n",
    "    bin_count=int((binrange[1]-binrange[0])/binwidth)\n",
    "    # g = sns.FacetGrid(_df, row=\"Voltage (V)\",row_order=hueorder, hue=\"Voltage (V)\", hue_order=hueorder, aspect=8, height=.5,sharey=False,sharex=True, palette='rainbow',xlim=binrange)\n",
    "    # g.map(sns.histplot, \"frac\",\n",
    "    #   binwidth=binwidth,binrange=binrange, clip_on=True,\n",
    "    #   fill=True, alpha=1, linewidth=0.45,common_norm=True,log_scale=(False,True))\n",
    "    # plt.figure()\n",
    "    \n",
    "    g = sns.FacetGrid(df, row=\"voltagestr\",row_order=hueorder, hue=\"voltagestr\", hue_order=hueorder, \n",
    "                      aspect=10, height=.35,sharey=False,sharex=True, palette=palette,xlim=binrange)\n",
    "    g.map(sns.histplot, \"logdwell\",\n",
    "      binwidth=binwidth,binrange=binrange, clip_on=True,\n",
    "      fill=True, alpha=1, linewidth=0.5,common_norm=True,hue_norm=(150,225))\n",
    "    g.refline(y=0, linewidth=0.5, linestyle=\"-\", color=None, clip_on=False)\n",
    "    def label(x, color, label):\n",
    "        ax = plt.gca()\n",
    "        ax.text(0.84, .28, label+\"V\", fontweight=\"bold\", color=color,\n",
    "            ha=\"left\", va=\"center\", transform=ax.transAxes)\n",
    "    g.map(label,'logdwell')\n",
    "    g.figure.subplots_adjust(hspace=-0.25)\n",
    "    g.set_titles(\"\")\n",
    "    g.set(yticks=[], ylabel=\"\",xlabel=\"\")\n",
    "    g.despine( left=True)\n",
    "    # g.figure.savefig(f\"{key}_dwell_hist.pdf\")\n",
    "    # print(g.axes.shape)\n",
    "    # g.axes[3,0].tick_params(axis='x',reset=True,top=False)\n",
    "    # g.refline(y=0.8, linewidth=0.4, linestyle=\"-\", color=None, clip_on=False)\n",
    "    "
   ]
  },
  {
   "cell_type": "code",
   "execution_count": null,
   "id": "d23726ac-9550-4aa6-91e1-1146cf8cbfd3",
   "metadata": {},
   "outputs": [],
   "source": []
  }
 ],
 "metadata": {
  "kernelspec": {
   "display_name": "Python 3 (ipykernel)",
   "language": "python",
   "name": "python3"
  },
  "language_info": {
   "codemirror_mode": {
    "name": "ipython",
    "version": 3
   },
   "file_extension": ".py",
   "mimetype": "text/x-python",
   "name": "python",
   "nbconvert_exporter": "python",
   "pygments_lexer": "ipython3",
   "version": "3.11.7"
  }
 },
 "nbformat": 4,
 "nbformat_minor": 5
}
